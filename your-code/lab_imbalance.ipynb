{
 "cells": [
  {
   "cell_type": "markdown",
   "metadata": {},
   "source": [
    "# Inbalanced Classes\n",
    "## In this lab, we are going to explore a case of imbalanced classes. \n",
    "\n",
    "\n",
    "Like we disussed in class, when we have noisy data, if we are not careful, we can end up fitting our model to the noise in the data and not the 'signal'-- the factors that actually determine the outcome. This is called overfitting, and results in good results in training, and in bad results when the model is applied to real data. Similarly, we could have a model that is too simplistic to accurately model the signal. This produces a model that doesnt work well (ever). \n"
   ]
  },
  {
   "cell_type": "markdown",
   "metadata": {},
   "source": [
    "### Note: before doing the first commit, make sure you don't include the large csv file, either by adding it to .gitignore, or by deleting it."
   ]
  },
  {
   "cell_type": "markdown",
   "metadata": {},
   "source": [
    "### First, download the data from: https://www.kaggle.com/datasets/chitwanmanchanda/fraudulent-transactions-data?resource=download . Import the dataset and provide some discriptive statistics and plots. What do you think will be the important features in determining the outcome?\n",
    "### Note: don't use the entire dataset, use a sample instead, with n=100000 elements, so your computer doesn't freeze."
   ]
  },
  {
   "cell_type": "code",
   "execution_count": 1,
   "metadata": {},
   "outputs": [],
   "source": [
    "import pandas as pd\n",
    "import matplotlib.pyplot as plt\n",
    "import seaborn as sns"
   ]
  },
  {
   "cell_type": "code",
   "execution_count": 2,
   "metadata": {},
   "outputs": [],
   "source": [
    "data = pd.read_csv(\"Fraud.csv\")\n",
    "sample_data = data.sample(n=100000, random_state=42)"
   ]
  },
  {
   "cell_type": "code",
   "execution_count": 3,
   "metadata": {},
   "outputs": [
    {
     "data": {
      "text/html": [
       "<div>\n",
       "<style scoped>\n",
       "    .dataframe tbody tr th:only-of-type {\n",
       "        vertical-align: middle;\n",
       "    }\n",
       "\n",
       "    .dataframe tbody tr th {\n",
       "        vertical-align: top;\n",
       "    }\n",
       "\n",
       "    .dataframe thead th {\n",
       "        text-align: right;\n",
       "    }\n",
       "</style>\n",
       "<table border=\"1\" class=\"dataframe\">\n",
       "  <thead>\n",
       "    <tr style=\"text-align: right;\">\n",
       "      <th></th>\n",
       "      <th>step</th>\n",
       "      <th>type</th>\n",
       "      <th>amount</th>\n",
       "      <th>nameOrig</th>\n",
       "      <th>oldbalanceOrg</th>\n",
       "      <th>newbalanceOrig</th>\n",
       "      <th>nameDest</th>\n",
       "      <th>oldbalanceDest</th>\n",
       "      <th>newbalanceDest</th>\n",
       "      <th>isFraud</th>\n",
       "      <th>isFlaggedFraud</th>\n",
       "    </tr>\n",
       "  </thead>\n",
       "  <tbody>\n",
       "    <tr>\n",
       "      <th>3737323</th>\n",
       "      <td>278</td>\n",
       "      <td>CASH_IN</td>\n",
       "      <td>330218.42</td>\n",
       "      <td>C632336343</td>\n",
       "      <td>20866.00</td>\n",
       "      <td>351084.42</td>\n",
       "      <td>C834976624</td>\n",
       "      <td>452419.57</td>\n",
       "      <td>122201.15</td>\n",
       "      <td>0</td>\n",
       "      <td>0</td>\n",
       "    </tr>\n",
       "    <tr>\n",
       "      <th>264914</th>\n",
       "      <td>15</td>\n",
       "      <td>PAYMENT</td>\n",
       "      <td>11647.08</td>\n",
       "      <td>C1264712553</td>\n",
       "      <td>30370.00</td>\n",
       "      <td>18722.92</td>\n",
       "      <td>M215391829</td>\n",
       "      <td>0.00</td>\n",
       "      <td>0.00</td>\n",
       "      <td>0</td>\n",
       "      <td>0</td>\n",
       "    </tr>\n",
       "    <tr>\n",
       "      <th>85647</th>\n",
       "      <td>10</td>\n",
       "      <td>CASH_IN</td>\n",
       "      <td>152264.21</td>\n",
       "      <td>C1746846248</td>\n",
       "      <td>106589.00</td>\n",
       "      <td>258853.21</td>\n",
       "      <td>C1607284477</td>\n",
       "      <td>201303.01</td>\n",
       "      <td>49038.80</td>\n",
       "      <td>0</td>\n",
       "      <td>0</td>\n",
       "    </tr>\n",
       "    <tr>\n",
       "      <th>5899326</th>\n",
       "      <td>403</td>\n",
       "      <td>TRANSFER</td>\n",
       "      <td>1551760.63</td>\n",
       "      <td>C333676753</td>\n",
       "      <td>0.00</td>\n",
       "      <td>0.00</td>\n",
       "      <td>C1564353608</td>\n",
       "      <td>3198359.45</td>\n",
       "      <td>4750120.08</td>\n",
       "      <td>0</td>\n",
       "      <td>0</td>\n",
       "    </tr>\n",
       "    <tr>\n",
       "      <th>2544263</th>\n",
       "      <td>206</td>\n",
       "      <td>CASH_IN</td>\n",
       "      <td>78172.30</td>\n",
       "      <td>C813403091</td>\n",
       "      <td>2921331.58</td>\n",
       "      <td>2999503.88</td>\n",
       "      <td>C1091768874</td>\n",
       "      <td>415821.90</td>\n",
       "      <td>337649.60</td>\n",
       "      <td>0</td>\n",
       "      <td>0</td>\n",
       "    </tr>\n",
       "  </tbody>\n",
       "</table>\n",
       "</div>"
      ],
      "text/plain": [
       "         step      type      amount     nameOrig  oldbalanceOrg  \\\n",
       "3737323   278   CASH_IN   330218.42   C632336343       20866.00   \n",
       "264914     15   PAYMENT    11647.08  C1264712553       30370.00   \n",
       "85647      10   CASH_IN   152264.21  C1746846248      106589.00   \n",
       "5899326   403  TRANSFER  1551760.63   C333676753           0.00   \n",
       "2544263   206   CASH_IN    78172.30   C813403091     2921331.58   \n",
       "\n",
       "         newbalanceOrig     nameDest  oldbalanceDest  newbalanceDest  isFraud  \\\n",
       "3737323       351084.42   C834976624       452419.57       122201.15        0   \n",
       "264914         18722.92   M215391829            0.00            0.00        0   \n",
       "85647         258853.21  C1607284477       201303.01        49038.80        0   \n",
       "5899326            0.00  C1564353608      3198359.45      4750120.08        0   \n",
       "2544263      2999503.88  C1091768874       415821.90       337649.60        0   \n",
       "\n",
       "         isFlaggedFraud  \n",
       "3737323               0  \n",
       "264914                0  \n",
       "85647                 0  \n",
       "5899326               0  \n",
       "2544263               0  "
      ]
     },
     "execution_count": 3,
     "metadata": {},
     "output_type": "execute_result"
    }
   ],
   "source": [
    "sample_data.head()"
   ]
  },
  {
   "cell_type": "code",
   "execution_count": 4,
   "metadata": {},
   "outputs": [
    {
     "data": {
      "text/plain": [
       "(6362620, 11)"
      ]
     },
     "execution_count": 4,
     "metadata": {},
     "output_type": "execute_result"
    }
   ],
   "source": [
    "data.shape"
   ]
  },
  {
   "cell_type": "code",
   "execution_count": 5,
   "metadata": {},
   "outputs": [
    {
     "data": {
      "text/html": [
       "<div>\n",
       "<style scoped>\n",
       "    .dataframe tbody tr th:only-of-type {\n",
       "        vertical-align: middle;\n",
       "    }\n",
       "\n",
       "    .dataframe tbody tr th {\n",
       "        vertical-align: top;\n",
       "    }\n",
       "\n",
       "    .dataframe thead th {\n",
       "        text-align: right;\n",
       "    }\n",
       "</style>\n",
       "<table border=\"1\" class=\"dataframe\">\n",
       "  <thead>\n",
       "    <tr style=\"text-align: right;\">\n",
       "      <th></th>\n",
       "      <th>step</th>\n",
       "      <th>amount</th>\n",
       "      <th>oldbalanceOrg</th>\n",
       "      <th>newbalanceOrig</th>\n",
       "      <th>oldbalanceDest</th>\n",
       "      <th>newbalanceDest</th>\n",
       "      <th>isFraud</th>\n",
       "      <th>isFlaggedFraud</th>\n",
       "    </tr>\n",
       "  </thead>\n",
       "  <tbody>\n",
       "    <tr>\n",
       "      <th>count</th>\n",
       "      <td>6.362620e+06</td>\n",
       "      <td>6.362620e+06</td>\n",
       "      <td>6.362620e+06</td>\n",
       "      <td>6.362620e+06</td>\n",
       "      <td>6.362620e+06</td>\n",
       "      <td>6.362620e+06</td>\n",
       "      <td>6.362620e+06</td>\n",
       "      <td>6.362620e+06</td>\n",
       "    </tr>\n",
       "    <tr>\n",
       "      <th>mean</th>\n",
       "      <td>2.433972e+02</td>\n",
       "      <td>1.798619e+05</td>\n",
       "      <td>8.338831e+05</td>\n",
       "      <td>8.551137e+05</td>\n",
       "      <td>1.100702e+06</td>\n",
       "      <td>1.224996e+06</td>\n",
       "      <td>1.290820e-03</td>\n",
       "      <td>2.514687e-06</td>\n",
       "    </tr>\n",
       "    <tr>\n",
       "      <th>std</th>\n",
       "      <td>1.423320e+02</td>\n",
       "      <td>6.038582e+05</td>\n",
       "      <td>2.888243e+06</td>\n",
       "      <td>2.924049e+06</td>\n",
       "      <td>3.399180e+06</td>\n",
       "      <td>3.674129e+06</td>\n",
       "      <td>3.590480e-02</td>\n",
       "      <td>1.585775e-03</td>\n",
       "    </tr>\n",
       "    <tr>\n",
       "      <th>min</th>\n",
       "      <td>1.000000e+00</td>\n",
       "      <td>0.000000e+00</td>\n",
       "      <td>0.000000e+00</td>\n",
       "      <td>0.000000e+00</td>\n",
       "      <td>0.000000e+00</td>\n",
       "      <td>0.000000e+00</td>\n",
       "      <td>0.000000e+00</td>\n",
       "      <td>0.000000e+00</td>\n",
       "    </tr>\n",
       "    <tr>\n",
       "      <th>25%</th>\n",
       "      <td>1.560000e+02</td>\n",
       "      <td>1.338957e+04</td>\n",
       "      <td>0.000000e+00</td>\n",
       "      <td>0.000000e+00</td>\n",
       "      <td>0.000000e+00</td>\n",
       "      <td>0.000000e+00</td>\n",
       "      <td>0.000000e+00</td>\n",
       "      <td>0.000000e+00</td>\n",
       "    </tr>\n",
       "    <tr>\n",
       "      <th>50%</th>\n",
       "      <td>2.390000e+02</td>\n",
       "      <td>7.487194e+04</td>\n",
       "      <td>1.420800e+04</td>\n",
       "      <td>0.000000e+00</td>\n",
       "      <td>1.327057e+05</td>\n",
       "      <td>2.146614e+05</td>\n",
       "      <td>0.000000e+00</td>\n",
       "      <td>0.000000e+00</td>\n",
       "    </tr>\n",
       "    <tr>\n",
       "      <th>75%</th>\n",
       "      <td>3.350000e+02</td>\n",
       "      <td>2.087215e+05</td>\n",
       "      <td>1.073152e+05</td>\n",
       "      <td>1.442584e+05</td>\n",
       "      <td>9.430367e+05</td>\n",
       "      <td>1.111909e+06</td>\n",
       "      <td>0.000000e+00</td>\n",
       "      <td>0.000000e+00</td>\n",
       "    </tr>\n",
       "    <tr>\n",
       "      <th>max</th>\n",
       "      <td>7.430000e+02</td>\n",
       "      <td>9.244552e+07</td>\n",
       "      <td>5.958504e+07</td>\n",
       "      <td>4.958504e+07</td>\n",
       "      <td>3.560159e+08</td>\n",
       "      <td>3.561793e+08</td>\n",
       "      <td>1.000000e+00</td>\n",
       "      <td>1.000000e+00</td>\n",
       "    </tr>\n",
       "  </tbody>\n",
       "</table>\n",
       "</div>"
      ],
      "text/plain": [
       "               step        amount  oldbalanceOrg  newbalanceOrig  \\\n",
       "count  6.362620e+06  6.362620e+06   6.362620e+06    6.362620e+06   \n",
       "mean   2.433972e+02  1.798619e+05   8.338831e+05    8.551137e+05   \n",
       "std    1.423320e+02  6.038582e+05   2.888243e+06    2.924049e+06   \n",
       "min    1.000000e+00  0.000000e+00   0.000000e+00    0.000000e+00   \n",
       "25%    1.560000e+02  1.338957e+04   0.000000e+00    0.000000e+00   \n",
       "50%    2.390000e+02  7.487194e+04   1.420800e+04    0.000000e+00   \n",
       "75%    3.350000e+02  2.087215e+05   1.073152e+05    1.442584e+05   \n",
       "max    7.430000e+02  9.244552e+07   5.958504e+07    4.958504e+07   \n",
       "\n",
       "       oldbalanceDest  newbalanceDest       isFraud  isFlaggedFraud  \n",
       "count    6.362620e+06    6.362620e+06  6.362620e+06    6.362620e+06  \n",
       "mean     1.100702e+06    1.224996e+06  1.290820e-03    2.514687e-06  \n",
       "std      3.399180e+06    3.674129e+06  3.590480e-02    1.585775e-03  \n",
       "min      0.000000e+00    0.000000e+00  0.000000e+00    0.000000e+00  \n",
       "25%      0.000000e+00    0.000000e+00  0.000000e+00    0.000000e+00  \n",
       "50%      1.327057e+05    2.146614e+05  0.000000e+00    0.000000e+00  \n",
       "75%      9.430367e+05    1.111909e+06  0.000000e+00    0.000000e+00  \n",
       "max      3.560159e+08    3.561793e+08  1.000000e+00    1.000000e+00  "
      ]
     },
     "execution_count": 5,
     "metadata": {},
     "output_type": "execute_result"
    }
   ],
   "source": [
    "data.describe()"
   ]
  },
  {
   "cell_type": "code",
   "execution_count": 6,
   "metadata": {},
   "outputs": [
    {
     "data": {
      "text/plain": [
       "92445516.64"
      ]
     },
     "execution_count": 6,
     "metadata": {},
     "output_type": "execute_result"
    }
   ],
   "source": [
    "data['amount'].max()"
   ]
  },
  {
   "cell_type": "code",
   "execution_count": 7,
   "metadata": {},
   "outputs": [
    {
     "name": "stdout",
     "output_type": "stream",
     "text": [
      "Missing values:\n",
      " step              0\n",
      "type              0\n",
      "amount            0\n",
      "nameOrig          0\n",
      "oldbalanceOrg     0\n",
      "newbalanceOrig    0\n",
      "nameDest          0\n",
      "oldbalanceDest    0\n",
      "newbalanceDest    0\n",
      "isFraud           0\n",
      "isFlaggedFraud    0\n",
      "dtype: int64\n"
     ]
    }
   ],
   "source": [
    "print(\"Missing values:\\n\", data.isnull().sum())"
   ]
  },
  {
   "cell_type": "markdown",
   "metadata": {},
   "source": [
    "### What is the distribution of the outcome? "
   ]
  },
  {
   "cell_type": "code",
   "execution_count": 8,
   "metadata": {},
   "outputs": [
    {
     "data": {
      "text/plain": [
       "<Axes: xlabel='isFraud', ylabel='isFlaggedFraud'>"
      ]
     },
     "execution_count": 8,
     "metadata": {},
     "output_type": "execute_result"
    },
    {
     "data": {
      "image/png": "[encoded data removed]",
      "text/plain": [
       "<Figure size 1500x3000 with 8 Axes>"
      ]
     },
     "metadata": {},
     "output_type": "display_data"
    }
   ],
   "source": [
    "fig,ax=plt.subplots(4,2,figsize=(15,30))\n",
    "sns.countplot(x=sample_data.type,ax=ax[0][0]).set_title('Type',size=15)\n",
    "sns.violinplot(x=sample_data.isFraud,y=sample_data['amount'],ax=ax[0][1])\n",
    "sns.violinplot(x=sample_data.isFraud,y=sample_data['oldbalanceOrg'],ax=ax[1][0])\n",
    "sns.violinplot(x=sample_data.isFraud,y=sample_data['newbalanceOrig'],ax=ax[1][1])\n",
    "sns.violinplot(x=sample_data.isFraud,y=sample_data['oldbalanceDest'],ax=ax[2][0])\n",
    "sns.violinplot(x=sample_data.isFraud,y=sample_data['newbalanceDest'],ax=ax[2][1])\n",
    "sns.violinplot(x=sample_data.isFraud,y=sample_data['isFlaggedFraud'],ax=ax[3][0])"
   ]
  },
  {
   "cell_type": "code",
   "execution_count": 9,
   "metadata": {},
   "outputs": [
    {
     "data": {
      "image/png": "[encoded data removed]",
      "text/plain": [
       "<Figure size 500x300 with 1 Axes>"
      ]
     },
     "metadata": {},
     "output_type": "display_data"
    }
   ],
   "source": [
    "fraudulent_data = sample_data[sample_data['isFraud'] == 1]\n",
    "\n",
    "fig, ax = plt.subplots(1, 1, figsize=(5, 3))\n",
    "\n",
    "sns.countplot(x=fraudulent_data['type'], ax=ax)\n",
    "ax.set_title('Type (Fraudulent Transactions)', size=15)\n",
    "plt.show()"
   ]
  },
  {
   "cell_type": "markdown",
   "metadata": {},
   "source": [
    "### Clean the dataset. Pre-process it to make it suitable for ML training. Feel free to explore, drop, encode, transform, etc. Whatever you feel will improve the model score."
   ]
  },
  {
   "cell_type": "markdown",
   "metadata": {},
   "source": [
    "I see that the codes recording the origin and destination accounts have a letter in front, so we're going to convert it to numeric in case it could provide us with some value."
   ]
  },
  {
   "cell_type": "markdown",
   "metadata": {},
   "source": [
    "0 stands for C and 1 stands for M"
   ]
  },
  {
   "cell_type": "code",
   "execution_count": 10,
   "metadata": {},
   "outputs": [],
   "source": [
    "def encode_account_code(account_code):\n",
    "    if account_code.startswith('C'):\n",
    "        return 0\n",
    "    elif account_code.startswith('M'):\n",
    "        return 1\n",
    "    else:\n",
    "        return None\n",
    "\n",
    "sample_data['nameOrig'] = sample_data['nameOrig'].apply(lambda x: encode_account_code(x))\n",
    "sample_data['nameDest'] = sample_data['nameDest'].apply(lambda x: encode_account_code(x))"
   ]
  },
  {
   "cell_type": "code",
   "execution_count": 11,
   "metadata": {},
   "outputs": [
    {
     "data": {
      "text/plain": [
       "array(['CASH_IN', 'PAYMENT', 'TRANSFER', 'CASH_OUT', 'DEBIT'],\n",
       "      dtype=object)"
      ]
     },
     "execution_count": 11,
     "metadata": {},
     "output_type": "execute_result"
    }
   ],
   "source": [
    "sample_data['type'].unique()"
   ]
  },
  {
   "cell_type": "markdown",
   "metadata": {},
   "source": [
    "We also change the 'type' column to numeric, with the following mapping: 'TRANSFER': 0, 'CASH_OUT': 1, so we'll keep only these two columns, as are the only ones where fraud is commited."
   ]
  },
  {
   "cell_type": "code",
   "execution_count": 12,
   "metadata": {},
   "outputs": [],
   "source": [
    "data = sample_data.loc[(sample_data['type'] == 'TRANSFER') | (sample_data['type'] == 'CASH_OUT')]\n",
    "\n",
    "type_mapping = {'TRANSFER': 0, 'CASH_OUT': 1, 'CASH_IN': 2, 'PAYMENT': 3,'DEBIT':4}\n",
    "\n",
    "data.loc[:, 'type'] = data['type'].map(type_mapping).astype(int)"
   ]
  },
  {
   "cell_type": "markdown",
   "metadata": {},
   "source": [
    "We're curious to know if the initial or resulting amounts in the accounts that transfer or receive tend towards any outcome."
   ]
  },
  {
   "cell_type": "code",
   "execution_count": 13,
   "metadata": {},
   "outputs": [
    {
     "data": {
      "text/html": [
       "<div>\n",
       "<style scoped>\n",
       "    .dataframe tbody tr th:only-of-type {\n",
       "        vertical-align: middle;\n",
       "    }\n",
       "\n",
       "    .dataframe tbody tr th {\n",
       "        vertical-align: top;\n",
       "    }\n",
       "\n",
       "    .dataframe thead th {\n",
       "        text-align: right;\n",
       "    }\n",
       "</style>\n",
       "<table border=\"1\" class=\"dataframe\">\n",
       "  <thead>\n",
       "    <tr style=\"text-align: right;\">\n",
       "      <th></th>\n",
       "      <th>step</th>\n",
       "      <th>type</th>\n",
       "      <th>amount</th>\n",
       "      <th>nameOrig</th>\n",
       "      <th>oldbalanceOrg</th>\n",
       "      <th>newbalanceOrig</th>\n",
       "      <th>nameDest</th>\n",
       "      <th>oldbalanceDest</th>\n",
       "      <th>newbalanceDest</th>\n",
       "      <th>isFraud</th>\n",
       "      <th>isFlaggedFraud</th>\n",
       "    </tr>\n",
       "  </thead>\n",
       "  <tbody>\n",
       "    <tr>\n",
       "      <th>6303116</th>\n",
       "      <td>683</td>\n",
       "      <td>CASH_OUT</td>\n",
       "      <td>93483.23</td>\n",
       "      <td>0</td>\n",
       "      <td>93483.23</td>\n",
       "      <td>0.00</td>\n",
       "      <td>0</td>\n",
       "      <td>86882.30</td>\n",
       "      <td>180365.53</td>\n",
       "      <td>1</td>\n",
       "      <td>0</td>\n",
       "    </tr>\n",
       "    <tr>\n",
       "      <th>3960303</th>\n",
       "      <td>294</td>\n",
       "      <td>CASH_OUT</td>\n",
       "      <td>806863.30</td>\n",
       "      <td>0</td>\n",
       "      <td>806863.30</td>\n",
       "      <td>0.00</td>\n",
       "      <td>0</td>\n",
       "      <td>2344186.16</td>\n",
       "      <td>3151049.45</td>\n",
       "      <td>1</td>\n",
       "      <td>0</td>\n",
       "    </tr>\n",
       "    <tr>\n",
       "      <th>2736446</th>\n",
       "      <td>212</td>\n",
       "      <td>TRANSFER</td>\n",
       "      <td>4953893.08</td>\n",
       "      <td>0</td>\n",
       "      <td>4953893.08</td>\n",
       "      <td>4953893.08</td>\n",
       "      <td>0</td>\n",
       "      <td>0.00</td>\n",
       "      <td>0.00</td>\n",
       "      <td>1</td>\n",
       "      <td>1</td>\n",
       "    </tr>\n",
       "    <tr>\n",
       "      <th>1030272</th>\n",
       "      <td>51</td>\n",
       "      <td>CASH_OUT</td>\n",
       "      <td>1170282.92</td>\n",
       "      <td>0</td>\n",
       "      <td>1170282.92</td>\n",
       "      <td>0.00</td>\n",
       "      <td>0</td>\n",
       "      <td>173264.14</td>\n",
       "      <td>1343547.06</td>\n",
       "      <td>1</td>\n",
       "      <td>0</td>\n",
       "    </tr>\n",
       "    <tr>\n",
       "      <th>1212611</th>\n",
       "      <td>133</td>\n",
       "      <td>CASH_OUT</td>\n",
       "      <td>1159010.44</td>\n",
       "      <td>0</td>\n",
       "      <td>1159010.44</td>\n",
       "      <td>0.00</td>\n",
       "      <td>0</td>\n",
       "      <td>175085.52</td>\n",
       "      <td>1334095.97</td>\n",
       "      <td>1</td>\n",
       "      <td>0</td>\n",
       "    </tr>\n",
       "    <tr>\n",
       "      <th>6328876</th>\n",
       "      <td>689</td>\n",
       "      <td>CASH_OUT</td>\n",
       "      <td>953615.38</td>\n",
       "      <td>0</td>\n",
       "      <td>953615.38</td>\n",
       "      <td>0.00</td>\n",
       "      <td>0</td>\n",
       "      <td>0.00</td>\n",
       "      <td>953615.38</td>\n",
       "      <td>1</td>\n",
       "      <td>0</td>\n",
       "    </tr>\n",
       "    <tr>\n",
       "      <th>2801129</th>\n",
       "      <td>223</td>\n",
       "      <td>TRANSFER</td>\n",
       "      <td>334890.91</td>\n",
       "      <td>0</td>\n",
       "      <td>334890.91</td>\n",
       "      <td>0.00</td>\n",
       "      <td>0</td>\n",
       "      <td>0.00</td>\n",
       "      <td>0.00</td>\n",
       "      <td>1</td>\n",
       "      <td>0</td>\n",
       "    </tr>\n",
       "    <tr>\n",
       "      <th>6021361</th>\n",
       "      <td>467</td>\n",
       "      <td>CASH_OUT</td>\n",
       "      <td>636942.02</td>\n",
       "      <td>0</td>\n",
       "      <td>636942.02</td>\n",
       "      <td>0.00</td>\n",
       "      <td>0</td>\n",
       "      <td>46336.09</td>\n",
       "      <td>683278.11</td>\n",
       "      <td>1</td>\n",
       "      <td>0</td>\n",
       "    </tr>\n",
       "    <tr>\n",
       "      <th>6272260</th>\n",
       "      <td>621</td>\n",
       "      <td>TRANSFER</td>\n",
       "      <td>2060748.45</td>\n",
       "      <td>0</td>\n",
       "      <td>2060748.45</td>\n",
       "      <td>0.00</td>\n",
       "      <td>0</td>\n",
       "      <td>0.00</td>\n",
       "      <td>0.00</td>\n",
       "      <td>1</td>\n",
       "      <td>0</td>\n",
       "    </tr>\n",
       "    <tr>\n",
       "      <th>5545406</th>\n",
       "      <td>382</td>\n",
       "      <td>CASH_OUT</td>\n",
       "      <td>1595587.46</td>\n",
       "      <td>0</td>\n",
       "      <td>1595587.46</td>\n",
       "      <td>0.00</td>\n",
       "      <td>0</td>\n",
       "      <td>7519338.35</td>\n",
       "      <td>9114925.81</td>\n",
       "      <td>1</td>\n",
       "      <td>0</td>\n",
       "    </tr>\n",
       "  </tbody>\n",
       "</table>\n",
       "</div>"
      ],
      "text/plain": [
       "         step      type      amount  nameOrig  oldbalanceOrg  newbalanceOrig  \\\n",
       "6303116   683  CASH_OUT    93483.23         0       93483.23            0.00   \n",
       "3960303   294  CASH_OUT   806863.30         0      806863.30            0.00   \n",
       "2736446   212  TRANSFER  4953893.08         0     4953893.08      4953893.08   \n",
       "1030272    51  CASH_OUT  1170282.92         0     1170282.92            0.00   \n",
       "1212611   133  CASH_OUT  1159010.44         0     1159010.44            0.00   \n",
       "6328876   689  CASH_OUT   953615.38         0      953615.38            0.00   \n",
       "2801129   223  TRANSFER   334890.91         0      334890.91            0.00   \n",
       "6021361   467  CASH_OUT   636942.02         0      636942.02            0.00   \n",
       "6272260   621  TRANSFER  2060748.45         0     2060748.45            0.00   \n",
       "5545406   382  CASH_OUT  1595587.46         0     1595587.46            0.00   \n",
       "\n",
       "         nameDest  oldbalanceDest  newbalanceDest  isFraud  isFlaggedFraud  \n",
       "6303116         0        86882.30       180365.53        1               0  \n",
       "3960303         0      2344186.16      3151049.45        1               0  \n",
       "2736446         0            0.00            0.00        1               1  \n",
       "1030272         0       173264.14      1343547.06        1               0  \n",
       "1212611         0       175085.52      1334095.97        1               0  \n",
       "6328876         0            0.00       953615.38        1               0  \n",
       "2801129         0            0.00            0.00        1               0  \n",
       "6021361         0        46336.09       683278.11        1               0  \n",
       "6272260         0            0.00            0.00        1               0  \n",
       "5545406         0      7519338.35      9114925.81        1               0  "
      ]
     },
     "execution_count": 13,
     "metadata": {},
     "output_type": "execute_result"
    }
   ],
   "source": [
    "fraudulent_rows = sample_data[sample_data['isFraud'] == 1]\n",
    "\n",
    "fraudulent_rows.head(10)\n"
   ]
  },
  {
   "cell_type": "markdown",
   "metadata": {},
   "source": [
    "We can see that there is a large number of fraudulent operations in which, after the transaction, the original account balance becomes 0. "
   ]
  },
  {
   "cell_type": "markdown",
   "metadata": {},
   "source": [
    "### Trying models with Scaled/nonScaled Balanced/nonBalanced data"
   ]
  },
  {
   "cell_type": "code",
   "execution_count": 46,
   "metadata": {},
   "outputs": [
    {
     "ename": "SyntaxError",
     "evalue": "invalid syntax. Maybe you meant '==' or ':=' instead of '='? (3633643759.py, line 33)",
     "output_type": "error",
     "traceback": [
      "\u001b[1;36m  Cell \u001b[1;32mIn[46], line 33\u001b[1;36m\u001b[0m\n\u001b[1;33m    model_rf_orig = RandomForestClassifier((n_estimators=1000, max_depth=10, random_state=42))\u001b[0m\n\u001b[1;37m                                            ^\u001b[0m\n\u001b[1;31mSyntaxError\u001b[0m\u001b[1;31m:\u001b[0m invalid syntax. Maybe you meant '==' or ':=' instead of '='?\n"
     ]
    }
   ],
   "source": [
    "from sklearn.model_selection import train_test_split\n",
    "from sklearn.preprocessing import MinMaxScaler\n",
    "from imblearn.over_sampling import SMOTE\n",
    "from sklearn.linear_model import LogisticRegression\n",
    "from sklearn.ensemble import RandomForestClassifier\n",
    "\n",
    "# Split the data into training and test sets\n",
    "X_train_orig, X_test_orig, y_train_orig, y_test_orig = train_test_split(X, y, test_size=0.2, random_state=42)\n",
    "\n",
    "# Scale the data using MinMaxScaler\n",
    "scaler = MinMaxScaler()\n",
    "X_train_scaled = scaler.fit_transform(X_train_orig)\n",
    "X_test_scaled = scaler.transform(X_test_orig)\n",
    "\n",
    "# Balance the data using SMOTE\n",
    "smote = SMOTE(random_state=42)\n",
    "X_train_smote, y_train_smote = smote.fit_resample(X_train_scaled, y_train_orig)\n",
    "\n",
    "# Balance the data using SMOTE without scaling\n",
    "X_train_smote_unscaled, y_train_smote_unscaled = smote.fit_resample(X_train_orig, y_train_orig)\n",
    "\n",
    "# Train models with different data configurations\n",
    "\n",
    "# 1. Logistic Regression model with original data\n",
    "model_logreg_orig = LogisticRegression(max_iter=1000)\n",
    "model_logreg_orig.fit(X_train_orig, y_train_orig)\n",
    "\n",
    "# 2. Logistic Regression model with scaled data and balanced with SMOTE\n",
    "model_logreg_smote = LogisticRegression(max_iter=1000)\n",
    "model_logreg_smote.fit(X_train_smote, y_train_smote)\n",
    "\n",
    "# 3. Random Forest model with original data\n",
    "model_rf_orig = RandomForestClassifier((n_estimators=1000, max_depth=10, random_state=42))\n",
    "model_rf_orig.fit(X_train_orig, y_train_orig)\n",
    "\n",
    "# 4. Random Forest model with scaled data and balanced with SMOTE\n",
    "model_rf_smote = RandomForestClassifier((n_estimators=1000, max_depth=10, random_state=42))\n",
    "model_rf_smote.fit(X_train_smote, y_train_smote)\n",
    "\n",
    "# 5. Logistic Regression model with balanced data using SMOTE but without scaling\n",
    "model_logreg_smote_unscaled = LogisticRegression(max_iter=1000)\n",
    "model_logreg_smote_unscaled.fit(X_train_smote_unscaled, y_train_smote_unscaled)\n",
    "\n",
    "# 6. Random Forest model with balanced data using SMOTE but without scaling\n",
    "model_rf_smote_unscaled = RandomForestClassifier((n_estimators=1000, max_depth=10, random_state=42))\n",
    "model_rf_smote_unscaled.fit(X_train_smote_unscaled, y_train_smote_unscaled)\n"
   ]
  },
  {
   "cell_type": "code",
   "execution_count": 47,
   "metadata": {},
   "outputs": [],
   "source": [
    "from sklearn.metrics import accuracy_score, precision_score, recall_score, f1_score\n",
    "\n",
    "precision = precision_score(y_test_orig, y_pred_orig, zero_division=1)\n"
   ]
  },
  {
   "cell_type": "code",
   "execution_count": 48,
   "metadata": {},
   "outputs": [
    {
     "name": "stdout",
     "output_type": "stream",
     "text": [
      "Logistic Regression Model with Original Data:\n",
      "Accuracy: 0.9985120750829805\n",
      "Precision: 0.7368421052631579\n",
      "Recall: 0.6363636363636364\n",
      "F1-score: 0.6829268292682926\n",
      "\n",
      "Logistic Regression Model with Balanced (SMOTE) but Not Scaled Data:\n",
      "Accuracy: 0.9402540917935218\n",
      "Precision: 0.03531598513011153\n",
      "Recall: 0.8636363636363636\n",
      "F1-score: 0.06785714285714285\n",
      "\n",
      "Random Forest Model with Original Data:\n",
      "Accuracy: 0.9993132654229141\n",
      "Precision: 0.9444444444444444\n",
      "Recall: 0.7727272727272727\n",
      "F1-score: 0.85\n",
      "\n"
     ]
    },
    {
     "name": "stderr",
     "output_type": "stream",
     "text": [
      "C:\\Users\\USUARIO\\anaconda3\\Lib\\site-packages\\sklearn\\base.py:432: UserWarning: X has feature names, but LogisticRegression was fitted without feature names\n",
      "  warnings.warn(\n",
      "C:\\Users\\USUARIO\\anaconda3\\Lib\\site-packages\\sklearn\\base.py:432: UserWarning: X has feature names, but RandomForestClassifier was fitted without feature names\n",
      "  warnings.warn(\n"
     ]
    },
    {
     "name": "stdout",
     "output_type": "stream",
     "text": [
      "Random Forest Model with Balanced (SMOTE) but Not Scaled Data:\n",
      "Accuracy: 0.9050017168364427\n",
      "Precision: 0.020190023752969122\n",
      "Recall: 0.7727272727272727\n",
      "F1-score: 0.03935185185185186\n"
     ]
    }
   ],
   "source": [
    "from sklearn.metrics import accuracy_score, precision_score, recall_score, f1_score\n",
    "\n",
    "# Evaluate Logistic Regression model with original data\n",
    "y_pred_logreg_orig = model_logreg_orig.predict(X_test_orig)\n",
    "accuracy_logreg_orig = accuracy_score(y_test_orig, y_pred_logreg_orig)\n",
    "precision_logreg_orig = precision_score(y_test_orig, y_pred_logreg_orig, zero_division=\"warn\")\n",
    "recall_logreg_orig = recall_score(y_test_orig, y_pred_logreg_orig)\n",
    "f1_logreg_orig = f1_score(y_test_orig, y_pred_logreg_orig)\n",
    "\n",
    "print(\"Logistic Regression Model with Original Data:\")\n",
    "print(\"Accuracy:\", accuracy_logreg_orig)\n",
    "print(\"Precision:\", precision_logreg_orig)\n",
    "print(\"Recall:\", recall_logreg_orig)\n",
    "print(\"F1-score:\", f1_logreg_orig)\n",
    "print()\n",
    "\n",
    "# Evaluate Logistic Regression model with scaled and balanced data using SMOTE\n",
    "y_pred_logreg_smote = model_logreg_smote.predict(X_test_orig)\n",
    "accuracy_logreg_smote = accuracy_score(y_test_orig, y_pred_logreg_smote)\n",
    "precision_logreg_smote = precision_score(y_test_orig, y_pred_logreg_smote, zero_division=\"warn\")\n",
    "recall_logreg_smote = recall_score(y_test_orig, y_pred_logreg_smote)\n",
    "f1_logreg_smote = f1_score(y_test_orig, y_pred_logreg_smote)\n",
    "\n",
    "print(\"Logistic Regression Model with Balanced (SMOTE) but Not Scaled Data:\")\n",
    "print(\"Accuracy:\", accuracy_logreg_smote)\n",
    "print(\"Precision:\", precision_logreg_smote)\n",
    "print(\"Recall:\", recall_logreg_smote)\n",
    "print(\"F1-score:\", f1_logreg_smote)\n",
    "print()\n",
    "\n",
    "# Evaluate Random Forest model with original data\n",
    "y_pred_rf_orig = model_rf_orig.predict(X_test_orig)\n",
    "accuracy_rf_orig = accuracy_score(y_test_orig, y_pred_rf_orig)\n",
    "precision_rf_orig = precision_score(y_test_orig, y_pred_rf_orig, zero_division=\"warn\")\n",
    "recall_rf_orig = recall_score(y_test_orig, y_pred_rf_orig)\n",
    "f1_rf_orig = f1_score(y_test_orig, y_pred_rf_orig)\n",
    "\n",
    "print(\"Random Forest Model with Original Data:\")\n",
    "print(\"Accuracy:\", accuracy_rf_orig)\n",
    "print(\"Precision:\", precision_rf_orig)\n",
    "print(\"Recall:\", recall_rf_orig)\n",
    "print(\"F1-score:\", f1_rf_orig)\n",
    "print()\n",
    "\n",
    "# Evaluate Random Forest model with scaled and balanced data using SMOTE\n",
    "y_pred_rf_smote = model_rf_smote.predict(X_test_orig)\n",
    "accuracy_rf_smote = accuracy_score(y_test_orig, y_pred_rf_smote)\n",
    "precision_rf_smote = precision_score(y_test_orig, y_pred_rf_smote, zero_division=\"warn\")\n",
    "recall_rf_smote = recall_score(y_test_orig, y_pred_rf_smote)\n",
    "f1_rf_smote = f1_score(y_test_orig, y_pred_rf_smote)\n",
    "\n",
    "print(\"Random Forest Model with Balanced (SMOTE) but Not Scaled Data:\")\n",
    "print(\"Accuracy:\", accuracy_rf_smote)\n",
    "print(\"Precision:\", precision_rf_smote)\n",
    "print(\"Recall:\", recall_rf_smote)\n",
    "print(\"F1-score:\", f1_rf_smote)\n",
    "\n"
   ]
  },
  {
   "cell_type": "markdown",
   "metadata": {},
   "source": [
    "#### Confunsion Matrix"
   ]
  },
  {
   "cell_type": "code",
   "execution_count": 49,
   "metadata": {},
   "outputs": [
    {
     "name": "stdout",
     "output_type": "stream",
     "text": [
      "Confusion Matrix for Random Forest Model with Original Data:\n",
      "[[8714    1]\n",
      " [   5   17]]\n"
     ]
    }
   ],
   "source": [
    "from sklearn.metrics import confusion_matrix\n",
    "\n",
    "conf_matrix_rf_orig = confusion_matrix(y_test_orig, y_pred_rf_orig)\n",
    "\n",
    "print(\"Confusion Matrix for Random Forest Model with Original Data:\")\n",
    "print(conf_matrix_rf_orig)\n"
   ]
  },
  {
   "cell_type": "code",
   "execution_count": 51,
   "metadata": {},
   "outputs": [],
   "source": [
    "# should I try to improve these results?"
   ]
  },
  {
   "cell_type": "markdown",
   "metadata": {},
   "source": [
    "### Which model worked better and how do you know?"
   ]
  },
  {
   "cell_type": "markdown",
   "metadata": {},
   "source": [
    "After trying different methods, it has been Random Forest with unscaled and unbalanced data that has yielded the best result."
   ]
  },
  {
   "cell_type": "markdown",
   "metadata": {},
   "source": [
    "### Note: before doing the first commit, make sure you don't include the large csv file, either by adding it to .gitignore, or by deleting it."
   ]
  }
 ],
 "metadata": {
  "kernelspec": {
   "display_name": "Python 3 (ipykernel)",
   "language": "python",
   "name": "python3"
  },
  "language_info": {
   "codemirror_mode": {
    "name": "ipython",
    "version": 3
   },
   "file_extension": ".py",
   "mimetype": "text/x-python",
   "name": "python",
   "nbconvert_exporter": "python",
   "pygments_lexer": "ipython3",
   "version": "3.11.5"
  }
 },
 "nbformat": 4,
 "nbformat_minor": 4
}
